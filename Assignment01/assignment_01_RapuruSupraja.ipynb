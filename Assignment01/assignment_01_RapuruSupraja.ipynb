{
 "cells": [
  {
   "cell_type": "markdown",
   "id": "884535d4",
   "metadata": {},
   "source": [
    "## Title: Assignment 1\n",
    "## Subtitle: Computer performance, reliability, and scalability calculation\n",
    "## Author: Supraja Rapuru\n",
    "## Date: June 09, 2022"
   ]
  },
  {
   "cell_type": "markdown",
   "id": "736bf884-a5ee-44e3-94fb-3a656aa03e3b",
   "metadata": {
    "tags": []
   },
   "source": [
    "### 1.2 Assignment"
   ]
  },
  {
   "cell_type": "markdown",
   "id": "6039082a-64f6-48ac-aba1-45aa6b046885",
   "metadata": {},
   "source": [
    "#### a. Data Sizes"
   ]
  },
  {
   "cell_type": "markdown",
   "id": "a0c570d1-7691-4730-8d84-1f33f3cb2002",
   "metadata": {},
   "source": [
    "| Data Item                                  | Size per Item | Ref  |\n",
    "|--------------------------------------------|--------------:|------|\n",
    "| 128 character message.                     | 128 Bytes     |  1   |\n",
    "| 1024x768 PNG image                         | 1.5 MB        |  2   |\n",
    "| 1024x768 RAW image                         | 1.31 MB       |  3   |\n",
    "| HD (1080p) HEVC Video (15 minutes)         | 2.5 GB        |  4   |\n",
    "| HD (1080p) Uncompressed Video (15 minutes) | 167.96 GB     |  5   |\n",
    "| 4K UHD HEVC Video (15 minutes)             | 6.08 GB       |  6   |\n",
    "| 4k UHD Uncompressed Video (15 minutes)     | 671.85 GB     |  7   |\n",
    "| Human Genome (Uncompressed)                | 1.5 GB        |  8   |"
   ]
  },
  {
   "cell_type": "markdown",
   "id": "ddddc23a-4155-48b3-8af1-42f1cb179d38",
   "metadata": {},
   "source": [
    "## Solution Reference:\n",
    "\n",
    "* 1:- 1 byte = 1 character\n",
    "* 2:- Most PNG images are 16 bits of bit depth, calculation: 1024*768=786432 * 16 Bit = 12582912/8 = 1572864 Bytes/1024 = 1536 KB /1024 = 1.5 MB\n",
    "* 3:- RAW images are 12-14 Bits of bit depth, calculation: 1024*768=786432 * 14 bit = 11010048/8 = 1376256 Bytes/1024 = 1344.0 KB/1024 = 1.31 MB\n",
    "* 4, 5, 6, 7:- \n",
    "HD (1080p) HEVC Video (15 minutes) : The below calculator used H.264 codec tto calculate size of file but HEVC is 50% better compressor and reduces 50% size of file, so for this video H.264 takes 5.16 GB space so HEVC would take 1/2 size that is 2.5 GB.\n",
    "https://toolstud.io/video/filesize.php?width=1920&height=1080&framerate=30&timeduration=15&timeduration_unit=minutes&compression=3482&specificbitrate=100&specificbitrate_unit=1000000\n",
    "and https://www.circlehd.com/blog/how-to-calculate-video-file-size#:~:text=The%20approximate%20size%20of%20each,150MB%20storage%20space%20per%20second.\n",
    "\n",
    "* 8:- A real human genome is 6.4 billion letters (base pairs) long, one byte is considered to be 8 bits of data, so it would store 4 base pairs per byte, total 1.6 Billion Bytes which is 1.49 GB\n",
    "and https://www.veritasgenetics.com/our-thinking/whole-story/"
   ]
  },
  {
   "cell_type": "markdown",
   "id": "01d0c234-5aeb-4556-af07-c3fb54d5f023",
   "metadata": {},
   "source": [
    "#### b. Scaling"
   ]
  },
  {
   "cell_type": "markdown",
   "id": "514431ef-422f-40e4-8c79-9cbf5aa92e91",
   "metadata": {},
   "source": [
    "|                                           | Size     | # HD | \n",
    "|-------------------------------------------|---------:|-----:|\n",
    "| Daily Twitter Tweets (Uncompressed)       | 60GB     |  1   |\n",
    "| Daily Twitter Tweets (Snappy Compressed)  | 40GB     |  1   |\n",
    "| Daily Instagram Photos                    | 107TB    |  32  |\n",
    "| Daily YouTube Videos                      | 3038TB   | 911  |\n",
    "| Yearly Twitter Tweets (Uncompressed)      | 21TB     | 7    |\n",
    "| Yearly Twitter Tweets (Snappy Compressed) | 14TB     | 5    |\n",
    "| Yearly Instagram Photos                   | 39055TB  |11716 |\n",
    "| Yearly YouTube Videos                     | 1108870TB|332661|\n"
   ]
  },
  {
   "cell_type": "markdown",
   "id": "ab728aeb-1e70-4f01-a129-1bea001cc8f2",
   "metadata": {},
   "source": [
    "## Solution:\n",
    "\n",
    "* Daily Twitter Tweets (Uncompressed): 500 M tweets per day and 1 tweet of size 128 Bytes, Total 64 Billion Bytes, which is ~ 60 GB. HDFS uses 3 copies of each so total Size: 180 GB. HDFS total Capacity is 10 TB, so 1 HD would be more than enough tto store 1 day tweets data.\n",
    "* Daily Twitter Tweets (Snappy Compressed): Snappy Compression ratio for plain text is 1.5, so total size would be - total size/1.5 = ~ 40 GB. Should easily fit in 1 HD of 10TB.\n",
    "* Daily Instagram Photos: 75 Million photos uploadaed daily of size 1.5 MB(based on above data size chart), which is 109863 GB ~ 107 TB. Total 322 TB on HDFS (3 copies of each), need 32 HDs each of size 10 TB.\n",
    "* Daily YouTube Videos: Based on below calculator , 1 hr video file size is 4.32 GB, 500 hr videos per minute, so 2160 GB per minute and youtube need 3110400 GB space per day,~ 3038 TB per day. HDFS need 9113 TB space (3 copies each) so need 911 HDs.\n",
    "https://toolstud.io/video/filesize.php?width=1920&height=1080&framerate=30&timeduration=1&timeduration_unit=hours&compression=19290&specificbitrate=100&specificbitrate_unit=1000000\n",
    "* Yearly Twitter Tweets (Uncompressed): Yearly tweets = 500 M * 365 = 185 Billion, ~ 21756 GB ~ 21 TB for 1 year and ~ 64 TB HDFS space to store 3 copies, we need 6-7 HD each of size 10 TB\n",
    "* Yearly Twitter Tweets (Snappy Compressed):Considering snappy compression ratio = 1.5, total space for 1 year tweets = 21756/1.5 = 14504 GB ~ 14 TB. We need 42 TB HDFS space and 4-5 HD each of size 10 TB\n",
    "* Yearly Instagram Photos:daily need 107 TB, year = 107*365 = 39055 TB, \n",
    "* Yearly YouTube Videos: 3038 TB is daily, yearly = 3038*365 = 1108870 TB, and need 332661 HDs"
   ]
  },
  {
   "cell_type": "markdown",
   "id": "fff92ff9-f27b-4a94-b852-8389bfbe10e2",
   "metadata": {},
   "source": [
    "#### c. Reliability"
   ]
  },
  {
   "cell_type": "markdown",
   "id": "fb4a70e4-664d-4f97-86f4-391e688a55aa",
   "metadata": {},
   "source": [
    "|                                    | # HD | # Failures |\n",
    "|------------------------------------|-----:|-----------:|\n",
    "| Twitter Tweets (Uncompressed)      | 7    |   0.0707   |\n",
    "| Twitter Tweets (Snappy Compressed) | 5    |   0.0505   |\n",
    "| Instagram Photos                   |11716 |   118      |\n",
    "| YouTube Videos                     |332661|   3360     |"
   ]
  },
  {
   "cell_type": "markdown",
   "id": "c089b8eb-6d0e-42c0-9575-e84a2f07205a",
   "metadata": {},
   "source": [
    "## Solution:\n",
    "The HD annual failure rate = 1.01%\n",
    "\n",
    "Below formula is used to calculate # HD failures.\n",
    "\n",
    "#### #HD Failures = Total Yearly HD * Failure Rate"
   ]
  },
  {
   "cell_type": "markdown",
   "id": "09431deb-de4b-40b1-9cbf-a2036132341f",
   "metadata": {},
   "source": [
    "#### d. Latency"
   ]
  },
  {
   "cell_type": "markdown",
   "id": "540fc970-e0d4-4a53-a8df-8eb94d779a11",
   "metadata": {},
   "source": [
    "|                           | One Way Latency      |\n",
    "|---------------------------|---------------------:|\n",
    "| Los Angeles to Amsterdam  | 133.218 ms           |\n",
    "| Low Earth Orbit Satellite | 40 ms                |\n",
    "| Geostationary Satellite   | 600 ms               |\n",
    "| Earth to the Moon         | 1.29 sec             |\n",
    "| Earth to Mars             | 16 minutes           | "
   ]
  },
  {
   "cell_type": "markdown",
   "id": "3b1a4092-bac6-4124-9735-12df94397e5d",
   "metadata": {},
   "source": [
    "## Solution:\n",
    "\n",
    "* 1: https://wondernetwork.com/pings/Amsterdam/Los+Angeles , this website provides ping data in ms, which is one way latency.\n",
    "* 2: https://www.omniaccess.com/leo/\n",
    "* 3: https://www.omniaccess.com/leo/\n",
    "* 4: The moon is at an average distance of 240,000 miles from Earth. Light, traveling at 186,000 miles per second would make a single trip from Earth to the moon in 1.29 seconds.\n",
    "* 5: https://interimm.org/comms-latency/en/"
   ]
  },
  {
   "cell_type": "markdown",
   "id": "0f1528a7-d436-4e71-94ec-e2ca74e2588a",
   "metadata": {},
   "source": [
    "## END"
   ]
  }
 ],
 "metadata": {
  "kernelspec": {
   "display_name": "Python 3 (ipykernel)",
   "language": "python",
   "name": "python3"
  },
  "language_info": {
   "codemirror_mode": {
    "name": "ipython",
    "version": 3
   },
   "file_extension": ".py",
   "mimetype": "text/x-python",
   "name": "python",
   "nbconvert_exporter": "python",
   "pygments_lexer": "ipython3",
   "version": "3.8.8"
  }
 },
 "nbformat": 4,
 "nbformat_minor": 5
}
